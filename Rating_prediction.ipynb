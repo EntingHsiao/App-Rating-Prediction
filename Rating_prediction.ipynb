{
 "cells": [
  {
   "cell_type": "code",
   "execution_count": null,
   "metadata": {},
   "outputs": [],
   "source": [
    "import pandas as pd\n",
    "import numpy as np\n",
    "import json \n",
    "import seaborn as sns\n",
    "import matplotlib.pyplot as plt\n",
    "import os\n",
    "\n",
    "from sklearn import linear_model\n",
    "from sklearn import preprocessing\n",
    "from sklearn.metrics import mean_squared_error, r2_score\n",
    "from sklearn.model_selection import train_test_split, GridSearchCV\n",
    "from sklearn.ensemble import GradientBoostingRegressor\n",
    "from sklearn.ensemble.partial_dependence import plot_partial_dependence\n",
    "\n",
    "pd.options.display.max_columns = None\n",
    "pd.options.display.max_rows = None\n",
    "pd.options.display.max_colwidth = 1000"
   ]
  },
  {
   "cell_type": "code",
   "execution_count": null,
   "metadata": {},
   "outputs": [],
   "source": [
    "google_play_raw = pd.read_csv('googleplaystore.csv')"
   ]
  },
  {
   "cell_type": "code",
   "execution_count": null,
   "metadata": {},
   "outputs": [],
   "source": [
    "google_play_raw.dtypes"
   ]
  },
  {
   "cell_type": "code",
   "execution_count": null,
   "metadata": {},
   "outputs": [],
   "source": [
    "google_play_raw.sample(3)"
   ]
  },
  {
   "cell_type": "code",
   "execution_count": null,
   "metadata": {},
   "outputs": [],
   "source": [
    "google_play_raw.Category.value_counts()"
   ]
  },
  {
   "cell_type": "code",
   "execution_count": null,
   "metadata": {},
   "outputs": [],
   "source": [
    "google_play_raw.Genres.value_counts().head(20)"
   ]
  },
  {
   "cell_type": "code",
   "execution_count": null,
   "metadata": {},
   "outputs": [],
   "source": [
    "# Checking if there's any apps have 5 star ratings\n",
    "fivestars_ratings = google_play_raw.loc[google_play_raw['Rating'] == 5, ['App','text','Rating','Reviews','Installs']]\n",
    "fivestars_ratings"
   ]
  },
  {
   "cell_type": "code",
   "execution_count": null,
   "metadata": {},
   "outputs": [],
   "source": [
    "len(fivestars_ratings)"
   ]
  },
  {
   "cell_type": "code",
   "execution_count": null,
   "metadata": {},
   "outputs": [],
   "source": [
    "# Check if there's any app has rating over 5, which means the data might be noisy \n",
    "google_play_raw.loc[google_play_raw[\"Rating\"] > 5]"
   ]
  },
  {
   "cell_type": "code",
   "execution_count": null,
   "metadata": {},
   "outputs": [],
   "source": [
    "def value_to_float(x):\n",
    "    \"\"\"\n",
    "    Convert the string feature to float. \n",
    "    If there are `K` or `M` in the string, convert it to the corresponding number (1000 or 1000000)\n",
    "    \"\"\"\n",
    "    if type(x) == float or type(x) == int:\n",
    "        return x\n",
    "    if 'K' in x:\n",
    "        if len(x) > 1:\n",
    "            return float(x.replace('K', '')) * 10**3\n",
    "        return 1000.0\n",
    "    if 'M' in x:\n",
    "        if len(x) > 1:\n",
    "            return float(x.replace('M', '')) * 10**6\n",
    "        return 1000000.0\n",
    "    \n",
    "    # If the feature cannot be converted, return 0 instead\n",
    "    try:\n",
    "        parsed_val = float(x)\n",
    "    except ValueError:\n",
    "        parsed_val = 0.0\n",
    "    return parsed_val"
   ]
  },
  {
   "cell_type": "code",
   "execution_count": null,
   "metadata": {},
   "outputs": [],
   "source": [
    "# Clean the data\n",
    "google_play_cleaned = google_play_raw.loc[google_play_raw[\"Rating\"].notnull()]\n",
    "google_play_cleaned = google_play_cleaned.loc[google_play_cleaned[\"Rating\"] <= 5]\n",
    "\n",
    "google_play_cleaned[\"Price\"] = google_play_cleaned[\"Price\"].apply(lambda x: x.replace('$', ''))\n",
    "\n",
    "top30_genres = google_play_cleaned[\"Genres\"].value_counts().head(30).index\n",
    "google_play_cleaned[\"Genres\"] = google_play_cleaned[\"Genres\"].apply(lambda x: x if x in top30_genres else \"Other\")\n",
    "\n",
    "str_cols = [\"Reviews\", \"Size\", \"Price\"]\n",
    "\n",
    "for col in str_cols:\n",
    "    google_play_cleaned[[col]] = google_play_cleaned[[col]].fillna(value=\"\")\n",
    "    google_play_cleaned[col] = google_play_cleaned[col].apply(value_to_float)"
   ]
  },
  {
   "cell_type": "code",
   "execution_count": null,
   "metadata": {},
   "outputs": [],
   "source": [
    "google_play_cleaned.describe()"
   ]
  },
  {
   "cell_type": "code",
   "execution_count": null,
   "metadata": {},
   "outputs": [],
   "source": [
    "# To get a brief idea about the apps whose prices are higher than $50\n",
    "google_play_cleaned.loc[google_play_cleaned[\"Price\"] > 50]"
   ]
  },
  {
   "cell_type": "code",
   "execution_count": null,
   "metadata": {},
   "outputs": [],
   "source": [
    "# Perform Exploratory Data Analysis (EDA)\n",
    "%pylab inline\n",
    "\n",
    "fig = sns.distplot(google_play_cleaned[\"Rating\"], bins=20)   \n",
    "\n",
    "fig.set_xlabel('Ratings')\n",
    "plt.title('Rating Distribution')"
   ]
  },
  {
   "cell_type": "code",
   "execution_count": null,
   "metadata": {},
   "outputs": [],
   "source": [
    "top10_category = google_play_cleaned[\"Category\"].value_counts().head(10).index\n",
    "df_top10_category = google_play_cleaned.loc[google_play_cleaned[\"Category\"].isin(top10_category)]"
   ]
  },
  {
   "cell_type": "code",
   "execution_count": null,
   "metadata": {},
   "outputs": [],
   "source": [
    "fig = sns.countplot(x=\"Category\", data=df_top10_category)\n",
    "fig.set_xlabel('Category')\n",
    "\n",
    "plt.xticks(rotation=45)\n",
    "plt.title('Categories and the App Count')\n",
    "plt.ylabel('App Count')"
   ]
  },
  {
   "cell_type": "code",
   "execution_count": null,
   "metadata": {},
   "outputs": [],
   "source": [
    "fig = sns.distplot(google_play_cleaned.loc[google_play_cleaned[\"Reviews\"] < 5000, \"Reviews\"], bins=20)\n",
    "fig.set_xlabel('Reviews')\n",
    "plt.title('Review Distribution')"
   ]
  },
  {
   "cell_type": "code",
   "execution_count": null,
   "metadata": {},
   "outputs": [],
   "source": [
    "fig = sns.distplot(google_play_cleaned[\"Size\"], bins=20)\n",
    "fig.set_xlabel('Size')\n",
    "plt.title('Size Distribution')"
   ]
  },
  {
   "cell_type": "code",
   "execution_count": null,
   "metadata": {},
   "outputs": [],
   "source": [
    "fig = sns.distplot(google_play_cleaned[\"Price\"], bins=20)\n",
    "fig.set_xlabel('Price')\n",
    "plt.title('Price Distribution')"
   ]
  },
  {
   "cell_type": "code",
   "execution_count": null,
   "metadata": {},
   "outputs": [],
   "source": [
    "fig = sns.countplot(x=\"Installs\", data=google_play_cleaned, order=google_play_cleaned['Installs'].value_counts().index)\n",
    "fig.set_xlabel('Installs')\n",
    "\n",
    "plt.xticks(rotation=90)\n",
    "plt.title('App Install Count')\n",
    "plt.ylabel('App Count')"
   ]
  },
  {
   "cell_type": "code",
   "execution_count": null,
   "metadata": {},
   "outputs": [],
   "source": [
    "fig = sns.countplot(x=\"Type\", data=google_play_cleaned)\n",
    "fig.set_xlabel('Type')\n",
    "plt.title('App Type Count')\n",
    "plt.ylabel('App Count')"
   ]
  },
  {
   "cell_type": "code",
   "execution_count": null,
   "metadata": {},
   "outputs": [],
   "source": [
    "fig = sns.countplot(x=\"Content Rating\", data=google_play_cleaned)\n",
    "fig.set_xlabel('Content Rating')\n",
    "plt.xticks(rotation=45)\n",
    "plt.title('Content Rating Count')\n",
    "plt.ylabel('App Count')"
   ]
  },
  {
   "cell_type": "code",
   "execution_count": null,
   "metadata": {},
   "outputs": [],
   "source": [
    "top10_genres = google_play_cleaned[\"Genres\"].value_counts().head(10).index\n",
    "df_top10_genres = google_play_cleaned.loc[google_play_cleaned[\"Genres\"].isin(top10_genres)]"
   ]
  },
  {
   "cell_type": "code",
   "execution_count": null,
   "metadata": {},
   "outputs": [],
   "source": [
    "fig = sns.countplot(x=\"Genres\", data=df_top10_genres)\n",
    "fig.set_xlabel('Genres')\n",
    "\n",
    "plt.xticks(rotation=45)\n",
    "plt.title('Top 10 Genres and the App Count')\n",
    "plt.ylabel('App Count')"
   ]
  },
  {
   "cell_type": "code",
   "execution_count": null,
   "metadata": {},
   "outputs": [],
   "source": [
    "top10_android = google_play_cleaned[\"Android Ver\"].value_counts().head(10).index\n",
    "df_top10_android = google_play_cleaned.loc[google_play_cleaned[\"Android Ver\"].isin(top10_android)]"
   ]
  },
  {
   "cell_type": "code",
   "execution_count": null,
   "metadata": {},
   "outputs": [],
   "source": [
    "fig = sns.countplot(x=\"Android Ver\", data=df_top10_android)\n",
    "fig.set_xlabel('Android Version')\n",
    "\n",
    "plt.xticks(rotation=45)\n",
    "plt.title('Top 10 Android Version and the App Count')\n",
    "plt.ylabel('App Count')"
   ]
  },
  {
   "cell_type": "code",
   "execution_count": null,
   "metadata": {},
   "outputs": [],
   "source": [
    "google_play_cleaned.head()"
   ]
  },
  {
   "cell_type": "code",
   "execution_count": null,
   "metadata": {},
   "outputs": [],
   "source": [
    "# Create one-hot encoding for categorical features\n",
    "categorical_feeatures = [\"Category\", \"Installs\", \"Type\", \"Content Rating\", \"Genres\", \"Android Ver\"]\n",
    "\n",
    "for col in categorical_feeatures:\n",
    "    one_hot = pd.get_dummies(google_play_cleaned[col], prefix=col+\"_\")\n",
    "    google_play_cleaned = google_play_cleaned.drop(col, axis=1)\n",
    "    google_play_cleaned = google_play_cleaned.join(one_hot)\n",
    "    \n",
    "google_play_cleaned = google_play_cleaned.drop([\"App\", \"Last Updated\", \"Current Ver\"], axis=1)"
   ]
  },
  {
   "cell_type": "code",
   "execution_count": null,
   "metadata": {},
   "outputs": [],
   "source": [
    "features = google_play_cleaned.drop(\"Rating\", axis=1)\n",
    "labels = google_play_cleaned[\"Rating\"].values"
   ]
  },
  {
   "cell_type": "code",
   "execution_count": null,
   "metadata": {},
   "outputs": [],
   "source": [
    "# Split training/test data\n",
    "X_train, X_test, y_train, y_test = train_test_split(features, labels, test_size=0.1, random_state=42)"
   ]
  },
  {
   "cell_type": "code",
   "execution_count": null,
   "metadata": {},
   "outputs": [],
   "source": [
    "# Make sure feature values fall in similar ranges\n",
    "min_max_scaler = preprocessing.MinMaxScaler()\n",
    "X_train_scaled = min_max_scaler.fit_transform(X_train)\n",
    "X_test_scaled = min_max_scaler.transform(X_test)"
   ]
  },
  {
   "cell_type": "code",
   "execution_count": null,
   "metadata": {},
   "outputs": [],
   "source": [
    "# Create linear regression object\n",
    "regr = linear_model.LinearRegression()\n",
    "\n",
    "# Train the model using the training sets\n",
    "regr.fit(X_train_scaled, y_train)\n",
    "\n",
    "# Make predictions using the train/testing set\n",
    "y_pred_train = regr.predict(X_train_scaled)\n",
    "y_pred_test = regr.predict(X_test_scaled)\n",
    "\n",
    "# The coefficients\n",
    "print('Coefficients: \\n', regr.coef_)\n",
    "\n",
    "# The mean squared error\n",
    "print(\"Mean squared error (train): %.2f\"\n",
    "      % mean_squared_error(y_train, y_pred_train))\n",
    "print(\"Mean squared error (test): %.2f\"\n",
    "      % mean_squared_error(y_test, y_pred_test))\n",
    "\n",
    "# R-squared on training set: 1 is perfect prediction\n",
    "print('R-squared (train): %.2f' % r2_score(y_train, y_pred_train))\n",
    "# R-squared on test set: 1 is perfect prediction\n",
    "print('R-squared (test): %.2f' % r2_score(y_test, y_pred_test))"
   ]
  },
  {
   "cell_type": "code",
   "execution_count": null,
   "metadata": {},
   "outputs": [],
   "source": [
    "# Set the parameters for cross-validation\n",
    "tuned_parameters = [\n",
    "    {\n",
    "        'max_depth': [2, 3, 4, 5], \n",
    "        'learning_rate': [0.2, 0.1, 0.05, 0.01],\n",
    "        'subsample': [1.0, 0.9, 0.8]\n",
    "    }\n",
    "]\n",
    "\n",
    "print(\"# Tuning hyper-parameters\")\n",
    "\n",
    "clf = GridSearchCV(GradientBoostingRegressor(), tuned_parameters, cv=5, scoring=\"neg_mean_squared_error\")\n",
    "clf.fit(X_train, y_train)"
   ]
  },
  {
   "cell_type": "code",
   "execution_count": null,
   "metadata": {},
   "outputs": [],
   "source": [
    "print(\"Best parameters set found on training set:\")\n",
    "print(clf.best_params_)"
   ]
  },
  {
   "cell_type": "code",
   "execution_count": null,
   "metadata": {},
   "outputs": [],
   "source": [
    "means = clf.cv_results_['mean_test_score']\n",
    "stds = clf.cv_results_['std_test_score']\n",
    "for mean, std, params in zip(means, stds, clf.cv_results_['params']):\n",
    "    print(\"Mean squared error = %0.3f for %r\" % (-mean, params))"
   ]
  },
  {
   "cell_type": "code",
   "execution_count": null,
   "metadata": {},
   "outputs": [],
   "source": [
    "best_estimator = clf.best_estimator_"
   ]
  },
  {
   "cell_type": "code",
   "execution_count": null,
   "metadata": {},
   "outputs": [],
   "source": [
    "# Make predictions using the train/testing set\n",
    "y_pred_train = best_estimator.predict(X_train)\n",
    "y_pred_test = best_estimator.predict(X_test)\n",
    "\n",
    "# The mean squared error\n",
    "print(\"Mean squared error (train): %.2f\"\n",
    "      % mean_squared_error(y_train, y_pred_train))\n",
    "print(\"Mean squared error (test): %.2f\"\n",
    "      % mean_squared_error(y_test, y_pred_test))\n",
    "\n",
    "# R-squared on training set: 1 is perfect prediction\n",
    "print('R-squared (train): %.2f' % r2_score(y_train, y_pred_train))\n",
    "# R-squared on test set: 1 is perfect prediction\n",
    "print('R-squared (test): %.2f' % r2_score(y_test, y_pred_test))"
   ]
  },
  {
   "cell_type": "code",
   "execution_count": null,
   "metadata": {},
   "outputs": [],
   "source": [
    "best_n_estimators = best_estimator.get_params()[\"n_estimators\"]"
   ]
  },
  {
   "cell_type": "code",
   "execution_count": null,
   "metadata": {},
   "outputs": [],
   "source": [
    "# Plot training deviance\n",
    "\n",
    "# Compute test set deviance\n",
    "test_score = np.zeros((best_n_estimators,), dtype=np.float64)\n",
    " \n",
    "for i, y_pred_test in enumerate(best_estimator.staged_predict(X_test)):\n",
    "    test_score[i] = best_estimator.loss_(y_test, y_pred_test)\n",
    "    \n",
    "plt.figure(figsize=(12, 6))\n",
    "plt.subplot(1, 2, 1)\n",
    "plt.subplots_adjust(wspace=.5)\n",
    "plt.title('Deviance')\n",
    "plt.plot(np.arange(best_n_estimators) + 1, best_estimator.train_score_, 'b-',\n",
    "         label='Training Set Deviance')\n",
    "plt.plot(np.arange(best_n_estimators) + 1, test_score, 'r-',\n",
    "         label='Test Set Deviance')\n",
    "plt.legend(loc='upper right')\n",
    "plt.xlabel('Boosting Iterations')\n",
    "plt.ylabel('Deviance')\n",
    "\n",
    "# Plot feature importance\n",
    "feature_importance = best_estimator.feature_importances_\n",
    "num_top_features = 20\n",
    "\n",
    "# Make importances relative to max importance\n",
    "feature_importance = 100.0 * (feature_importance / feature_importance.max())\n",
    "sorted_idx = np.argsort(feature_importance)[::-1][0:num_top_features]\n",
    "pos = np.arange(sorted_idx.shape[0]) + .5\n",
    "plt.subplot(1, 2, 2)\n",
    "plt.barh(pos, feature_importance[sorted_idx], align='center')\n",
    "plt.yticks(pos, X_train.columns[sorted_idx])\n",
    "plt.xlabel('Relative Importance')\n",
    "plt.title('Variable Importance')\n",
    "plt.show()"
   ]
  },
  {
   "cell_type": "code",
   "execution_count": null,
   "metadata": {},
   "outputs": [],
   "source": [
    "# Plot partial dependence\n",
    "num_top_features = 5\n",
    "fig, ax = plot_partial_dependence(best_estimator, X_train, sorted_idx[0:num_top_features], n_cols=5, feature_names=X_train.columns)\n",
    "fig.set_figwidth(16)"
   ]
  },
  {
   "cell_type": "code",
   "execution_count": null,
   "metadata": {},
   "outputs": [],
   "source": []
  }
 ],
 "metadata": {
  "kernelspec": {
   "display_name": "Python 3",
   "language": "python",
   "name": "python3"
  },
  "language_info": {
   "codemirror_mode": {
    "name": "ipython",
    "version": 3
   },
   "file_extension": ".py",
   "mimetype": "text/x-python",
   "name": "python",
   "nbconvert_exporter": "python",
   "pygments_lexer": "ipython3",
   "version": "3.7.4"
  }
 },
 "nbformat": 4,
 "nbformat_minor": 2
}
